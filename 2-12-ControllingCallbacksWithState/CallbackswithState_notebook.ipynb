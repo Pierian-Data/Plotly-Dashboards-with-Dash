{
 "cells": [
  {
   "cell_type": "code",
   "execution_count": 4,
   "metadata": {},
   "outputs": [
    {
     "name": "stdout",
     "output_type": "stream",
     "text": [
      " * Serving Flask app \"__main__\" (lazy loading)\n",
      " * Environment: production\n",
      "   WARNING: This is a development server. Do not use it in a production deployment.\n",
      "   Use a production WSGI server instead.\n",
      " * Debug mode: off\n"
     ]
    },
    {
     "name": "stderr",
     "output_type": "stream",
     "text": [
      " * Running on http://127.0.0.1:8050/ (Press CTRL+C to quit)\n",
      "127.0.0.1 - - [07/Jan/2020 14:21:17] \"GET / HTTP/1.1\" 200 -\n",
      "127.0.0.1 - - [07/Jan/2020 14:21:17] \"GET /_dash-component-suites/dash_renderer/react@16.8.6.min.js?v=1.1.0&m=1568818297 HTTP/1.1\" 200 -\n",
      "127.0.0.1 - - [07/Jan/2020 14:21:17] \"GET /_dash-component-suites/dash_renderer/prop-types@15.7.2.min.js?v=1.1.0&m=1568818297 HTTP/1.1\" 200 -\n",
      "127.0.0.1 - - [07/Jan/2020 14:21:17] \"GET /_dash-component-suites/dash_renderer/react-dom@16.8.6.min.js?v=1.1.0&m=1568818297 HTTP/1.1\" 200 -\n",
      "127.0.0.1 - - [07/Jan/2020 14:21:17] \"GET /_dash-component-suites/dash_html_components/dash_html_components.min.js?v=1.0.1&m=1566962730 HTTP/1.1\" 200 -\n",
      "127.0.0.1 - - [07/Jan/2020 14:21:17] \"GET /_dash-component-suites/dash_core_components/highlight.pack.js?v=1.2.0&m=1568821458 HTTP/1.1\" 200 -\n",
      "127.0.0.1 - - [07/Jan/2020 14:21:17] \"GET /_dash-component-suites/dash_renderer/dash_renderer.min.js?v=1.1.0&m=1568818297 HTTP/1.1\" 200 -\n",
      "127.0.0.1 - - [07/Jan/2020 14:21:17] \"GET /_dash-component-suites/dash_core_components/dash_core_components.min.js?v=1.2.0&m=1568821458 HTTP/1.1\" 200 -\n",
      "127.0.0.1 - - [07/Jan/2020 14:21:17] \"GET /_dash-component-suites/dash_core_components/plotly-1.49.4.min.js?v=1.2.0&m=1568821458 HTTP/1.1\" 200 -\n",
      "127.0.0.1 - - [07/Jan/2020 14:21:18] \"POST /_dash-update-component HTTP/1.1\" 200 -\n",
      "127.0.0.1 - - [07/Jan/2020 14:21:27] \"POST /_dash-update-component HTTP/1.1\" 200 -\n",
      "127.0.0.1 - - [07/Jan/2020 14:21:32] \"POST /_dash-update-component HTTP/1.1\" 200 -\n",
      "127.0.0.1 - - [07/Jan/2020 14:21:33] \"POST /_dash-update-component HTTP/1.1\" 200 -\n",
      "127.0.0.1 - - [07/Jan/2020 14:21:36] \"POST /_dash-update-component HTTP/1.1\" 200 -\n",
      "127.0.0.1 - - [07/Jan/2020 14:21:36] \"POST /_dash-update-component HTTP/1.1\" 200 -\n",
      "127.0.0.1 - - [07/Jan/2020 14:21:37] \"POST /_dash-update-component HTTP/1.1\" 200 -\n"
     ]
    }
   ],
   "source": [
    "import dash\n",
    "import dash_core_components as dcc\n",
    "import dash_html_components as html\n",
    "from dash.dependencies import Input, Output, State\n",
    "\n",
    "app = dash.Dash()\n",
    "\n",
    "app.layout = html.Div([\n",
    "    dcc.Input(\n",
    "        id='number-in',\n",
    "        value=1,\n",
    "        style={'fontSize':28}\n",
    "    ),\n",
    "    html.Button(\n",
    "        id='submit-button',\n",
    "        n_clicks=0,\n",
    "        children='Submit',\n",
    "        style={'fontSize':28}\n",
    "    ),\n",
    "    html.H1(id='number-out')\n",
    "])\n",
    "\n",
    "@app.callback(\n",
    "    Output('number-out', 'children'),\n",
    "    [Input('submit-button', 'n_clicks')],\n",
    "    [State('number-in', 'value')])\n",
    "def output(n_clicks, number):\n",
    "    return \"{} was typed in, and button was clicked {} times\".format(number, n_clicks)\n",
    "\n",
    "if __name__ == '__main__':\n",
    "    app.run_server()"
   ]
  }
 ],
 "metadata": {
  "kernelspec": {
   "display_name": "Python 3",
   "language": "python",
   "name": "python3"
  },
  "language_info": {
   "codemirror_mode": {
    "name": "ipython",
    "version": 3
   },
   "file_extension": ".py",
   "mimetype": "text/x-python",
   "name": "python",
   "nbconvert_exporter": "python",
   "pygments_lexer": "ipython3",
   "version": "3.7.3"
  }
 },
 "nbformat": 4,
 "nbformat_minor": 2
}
