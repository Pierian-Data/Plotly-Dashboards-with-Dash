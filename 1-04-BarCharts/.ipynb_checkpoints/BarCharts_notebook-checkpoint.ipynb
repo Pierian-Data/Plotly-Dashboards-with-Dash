{
 "cells": [
  {
   "cell_type": "code",
   "execution_count": 1,
   "metadata": {},
   "outputs": [
    {
     "name": "stdout",
     "output_type": "stream",
     "text": [
      "    Rank                NOC  Gold  Silver  Bronze  Total\n",
      "0      1             Norway    14      14      11     39\n",
      "1      2            Germany    14      10       7     31\n",
      "2      3             Canada    11       8      10     29\n",
      "3      4      United States     9       8       6     23\n",
      "4      5        Netherlands     8       6       6     20\n",
      "5      6             Sweden     7       6       1     14\n",
      "6      7  Republic of Korea     5       8       4     17\n",
      "7      8        Switzerland     5       6       4     15\n",
      "8      9             France     5       4       6     15\n",
      "9     10            Austria     5       3       6     14\n",
      "10    11              Japan     4       5       4     13\n",
      "11    12              Italy     3       2       5     10\n",
      "12    13                OAR     2       6       9     17\n",
      "13    14     Czech Republic     2       2       3      7\n",
      "14    15            Belarus     2       1       0      3\n",
      "15    16              China     1       6       2      9\n",
      "16    17           Slovakia     1       2       0      3\n",
      "17    18            Finland     1       1       4      6\n",
      "18    19      Great Britain     1       0       4      5\n",
      "19    20             Poland     1       0       1      2\n",
      "20    21            Hungary     1       0       0      1\n",
      "21    21            Ukraine     1       0       0      1\n",
      "22    23          Australia     0       2       1      3\n",
      "23    24           Slovenia     0       1       1      2\n",
      "24    25            Belgium     0       1       0      1\n",
      "25    26              Spain     0       0       2      2\n",
      "26    26        New Zealand     0       0       2      2\n",
      "27    28         Kazakhstan     0       0       1      1\n",
      "28    28             Latvia     0       0       1      1\n",
      "29    28      Liechtenstein     0       0       1      1\n"
     ]
    }
   ],
   "source": [
    "import numpy as np\n",
    "import pandas as pd\n",
    "import plotly.offline as pyo\n",
    "import plotly.graph_objs as go\n",
    "\n",
    "df = pd.read_csv('C:/Users/20194136/Documents/Courses/Plotly-Dashboards-with-Dash/Data/2018WinterOlympics.csv')\n",
    "print(df)"
   ]
  },
  {
   "cell_type": "code",
   "execution_count": 2,
   "metadata": {},
   "outputs": [
    {
     "data": {
      "text/plain": [
       "'temp-plot.html'"
      ]
     },
     "execution_count": 2,
     "metadata": {},
     "output_type": "execute_result"
    }
   ],
   "source": [
    "data = [go.Bar(x=df['NOC'], \n",
    "               y=df['Total'])]\n",
    "layout = go.Layout(title='Medals')\n",
    "fig = go.Figure(data=data, layout=layout)\n",
    "pyo.plot(fig)"
   ]
  },
  {
   "cell_type": "code",
   "execution_count": 3,
   "metadata": {},
   "outputs": [
    {
     "data": {
      "text/plain": [
       "'temp-plot.html'"
      ]
     },
     "execution_count": 3,
     "metadata": {},
     "output_type": "execute_result"
    }
   ],
   "source": [
    "# nested bar plot\n",
    "trace1= go.Bar(x=df['NOC'], \n",
    "               y=df['Gold'], \n",
    "               name='Gold', \n",
    "               marker=dict(color='#FFD700'))\n",
    "trace2= go.Bar(x=df['NOC'],\n",
    "              y=df['Silver'],\n",
    "              name='Silver',\n",
    "              marker=dict(color='#9EA0A1'))\n",
    "trace3= go.Bar(x=df['NOC'],\n",
    "              y=df['Bronze'],\n",
    "              name='Bronze',\n",
    "              marker=dict(color='#CD7F32'))\n",
    "\n",
    "data = [trace1, trace2, trace3]\n",
    "layout= go.Layout(title='Medals')\n",
    "fig = go.Figure(data=data, layout=layout)\n",
    "pyo.plot(fig)"
   ]
  },
  {
   "cell_type": "code",
   "execution_count": 4,
   "metadata": {},
   "outputs": [
    {
     "data": {
      "text/plain": [
       "'temp-plot.html'"
      ]
     },
     "execution_count": 4,
     "metadata": {},
     "output_type": "execute_result"
    }
   ],
   "source": [
    "# stacked bar plot\n",
    "trace1= go.Bar(x=df['NOC'], \n",
    "               y=df['Gold'], \n",
    "               name='Gold', \n",
    "               marker=dict(color='#FFD700'))\n",
    "trace2= go.Bar(x=df['NOC'],\n",
    "              y=df['Silver'],\n",
    "              name='Silver',\n",
    "              marker=dict(color='#9EA0A1'))\n",
    "trace3= go.Bar(x=df['NOC'],\n",
    "              y=df['Bronze'],\n",
    "              name='Bronze',\n",
    "              marker=dict(color='#CD7F32'))\n",
    "\n",
    "data = [trace1, trace2, trace3]\n",
    "layout= go.Layout(title='Medals', barmode='stack')\n",
    "fig = go.Figure(data=data, layout=layout)\n",
    "pyo.plot(fig)"
   ]
  },
  {
   "cell_type": "markdown",
   "metadata": {},
   "source": [
    "## Exercise"
   ]
  },
  {
   "cell_type": "code",
   "execution_count": 13,
   "metadata": {},
   "outputs": [
    {
     "name": "stdout",
     "output_type": "stream",
     "text": [
      "            Strongly Agree  Somewhat Agree  Neutral  Somewhat Disagree  \\\n",
      "Question 1            0.45            0.25     0.10               0.12   \n",
      "Question 2            0.12            0.07     0.48               0.18   \n",
      "Question 3            0.05            0.22     0.19               0.23   \n",
      "\n",
      "            Strongly Disagree  \n",
      "Question 1               0.08  \n",
      "Question 2               0.15  \n",
      "Question 3               0.31  \n"
     ]
    },
    {
     "data": {
      "text/plain": [
       "'temp-plot.html'"
      ]
     },
     "execution_count": 13,
     "metadata": {},
     "output_type": "execute_result"
    }
   ],
   "source": [
    "#######\n",
    "# Objective: Create a stacked bar chart from\n",
    "# the file ../data/mocksurvey.csv. Note that questions appear in\n",
    "# the index (and should be used for the x-axis), while responses\n",
    "# appear as column labels.  Extra Credit: make a horizontal bar chart!\n",
    "######\n",
    "\n",
    "# Perform imports here:\n",
    "# already done\n",
    "\n",
    "\n",
    "\n",
    "# create a DataFrame from the .csv file:\n",
    "df = pd.read_csv('C:/Users/20194136/Documents/Courses/Plotly-Dashboards-with-Dash/Data/mocksurvey.csv', index_col=0)\n",
    "print(df)\n",
    "# create traces using a list comprehension:\n",
    "data = [go.Bar(\n",
    "    x = df.index,\n",
    "    y = df[response],\n",
    "    name=response) for response in df.columns]\n",
    "\n",
    "\n",
    "\n",
    "\n",
    "# create a layout, remember to set the barmode here\n",
    "layout = go.Layout(title='Results per Question', barmode='stack')\n",
    "fig = go.Figure(data=data, layout=layout)\n",
    "pyo.plot(fig)\n",
    "\n",
    "\n",
    "# create a fig from data & layout, and plot the fig.\n"
   ]
  }
 ],
 "metadata": {
  "kernelspec": {
   "display_name": "Python 3",
   "language": "python",
   "name": "python3"
  },
  "language_info": {
   "codemirror_mode": {
    "name": "ipython",
    "version": 3
   },
   "file_extension": ".py",
   "mimetype": "text/x-python",
   "name": "python",
   "nbconvert_exporter": "python",
   "pygments_lexer": "ipython3",
   "version": "3.7.3"
  }
 },
 "nbformat": 4,
 "nbformat_minor": 2
}
