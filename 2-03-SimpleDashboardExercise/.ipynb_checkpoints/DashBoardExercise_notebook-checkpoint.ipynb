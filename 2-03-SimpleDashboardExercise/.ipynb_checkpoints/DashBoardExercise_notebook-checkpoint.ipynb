{
 "cells": [
  {
   "cell_type": "code",
   "execution_count": 4,
   "metadata": {},
   "outputs": [
    {
     "name": "stdout",
     "output_type": "stream",
     "text": [
      " * Serving Flask app \"__main__\" (lazy loading)\n",
      " * Environment: production\n",
      "   WARNING: This is a development server. Do not use it in a production deployment.\n",
      "   Use a production WSGI server instead.\n",
      " * Debug mode: off\n"
     ]
    },
    {
     "name": "stderr",
     "output_type": "stream",
     "text": [
      " * Running on http://127.0.0.1:8050/ (Press CTRL+C to quit)\n",
      "127.0.0.1 - - [07/Jan/2020 10:56:09] \"GET / HTTP/1.1\" 200 -\n",
      "127.0.0.1 - - [07/Jan/2020 10:56:09] \"GET /_dash-component-suites/dash_renderer/react@16.8.6.min.js?v=1.1.0&m=1568818297 HTTP/1.1\" 200 -\n",
      "127.0.0.1 - - [07/Jan/2020 10:56:09] \"GET /_dash-component-suites/dash_renderer/prop-types@15.7.2.min.js?v=1.1.0&m=1568818297 HTTP/1.1\" 200 -\n",
      "127.0.0.1 - - [07/Jan/2020 10:56:09] \"GET /_dash-component-suites/dash_renderer/react-dom@16.8.6.min.js?v=1.1.0&m=1568818297 HTTP/1.1\" 200 -\n",
      "127.0.0.1 - - [07/Jan/2020 10:56:09] \"GET /_dash-component-suites/dash_html_components/dash_html_components.min.js?v=1.0.1&m=1566962730 HTTP/1.1\" 200 -\n",
      "127.0.0.1 - - [07/Jan/2020 10:56:09] \"GET /_dash-component-suites/dash_core_components/highlight.pack.js?v=1.2.0&m=1568821458 HTTP/1.1\" 200 -\n",
      "127.0.0.1 - - [07/Jan/2020 10:56:09] \"GET /_dash-component-suites/dash_renderer/dash_renderer.min.js?v=1.1.0&m=1568818297 HTTP/1.1\" 200 -\n",
      "127.0.0.1 - - [07/Jan/2020 10:56:09] \"GET /_dash-component-suites/dash_core_components/dash_core_components.min.js?v=1.2.0&m=1568821458 HTTP/1.1\" 200 -\n",
      "127.0.0.1 - - [07/Jan/2020 10:56:09] \"GET /_dash-component-suites/dash_core_components/plotly-1.49.4.min.js?v=1.2.0&m=1568821458 HTTP/1.1\" 200 -\n",
      "127.0.0.1 - - [07/Jan/2020 10:56:12] \"GET / HTTP/1.1\" 200 -\n",
      "127.0.0.1 - - [07/Jan/2020 10:56:12] \"GET /_dash-component-suites/dash_renderer/react@16.8.6.min.js?v=1.1.0&m=1568818297 HTTP/1.1\" 200 -\n",
      "127.0.0.1 - - [07/Jan/2020 10:56:12] \"GET /_dash-component-suites/dash_renderer/react-dom@16.8.6.min.js?v=1.1.0&m=1568818297 HTTP/1.1\" 200 -\n",
      "127.0.0.1 - - [07/Jan/2020 10:56:12] \"GET /_dash-component-suites/dash_renderer/prop-types@15.7.2.min.js?v=1.1.0&m=1568818297 HTTP/1.1\" 200 -\n",
      "127.0.0.1 - - [07/Jan/2020 10:56:12] \"GET /_dash-component-suites/dash_html_components/dash_html_components.min.js?v=1.0.1&m=1566962730 HTTP/1.1\" 200 -\n",
      "127.0.0.1 - - [07/Jan/2020 10:56:13] \"GET /_dash-component-suites/dash_core_components/plotly-1.49.4.min.js?v=1.2.0&m=1568821458 HTTP/1.1\" 200 -\n",
      "127.0.0.1 - - [07/Jan/2020 10:56:13] \"GET /_dash-component-suites/dash_core_components/highlight.pack.js?v=1.2.0&m=1568821458 HTTP/1.1\" 200 -\n",
      "127.0.0.1 - - [07/Jan/2020 10:56:13] \"GET /_dash-component-suites/dash_core_components/dash_core_components.min.js?v=1.2.0&m=1568821458 HTTP/1.1\" 200 -\n",
      "127.0.0.1 - - [07/Jan/2020 10:56:13] \"GET /_dash-component-suites/dash_renderer/dash_renderer.min.js?v=1.1.0&m=1568818297 HTTP/1.1\" 200 -\n",
      "127.0.0.1 - - [07/Jan/2020 10:56:13] \"GET /_dash-dependencies HTTP/1.1\" 200 -\n",
      "127.0.0.1 - - [07/Jan/2020 10:56:13] \"GET /_dash-layout HTTP/1.1\" 200 -\n"
     ]
    }
   ],
   "source": [
    "#######\n",
    "# Objective: build a dashboard that imports OldFaithful.csv\n",
    "# from the data directory, and displays a scatterplot.\n",
    "# The field names are:\n",
    "# 'D' = date of recordings in month (in August),\n",
    "# 'X' = duration of the current eruption in minutes (to nearest 0.1 minute),\n",
    "# 'Y' = waiting time until the next eruption in minutes (to nearest minute).\n",
    "######\n",
    "\n",
    "# Perform imports here:\n",
    "import numpy as np\n",
    "import pandas as pd\n",
    "import plotly.graph_objs as go\n",
    "import dash\n",
    "import dash_core_components as dcc\n",
    "import dash_html_components as html\n",
    "\n",
    "# Launch the application:\n",
    "\n",
    "app = dash.Dash()\n",
    "\n",
    "\n",
    "# Create a DataFrame from the .csv file:\n",
    "df = pd.read_csv('C:/Users/20194136/Documents/Courses/Plotly-Dashboards-with-Dash/Data/OldFaithful.csv')\n",
    "\n",
    "# Create a Dash layout that contains a Graph component:\n",
    "app.layout = html.Div([\n",
    "    dcc.Graph(\n",
    "        id='old_faithful',\n",
    "        figure={\n",
    "            'data': [\n",
    "                go.Scatter(\n",
    "                    x = df['X'],\n",
    "                    y = df['Y'],\n",
    "                    mode = 'markers'\n",
    "                )\n",
    "            ],\n",
    "            'layout': go.Layout(\n",
    "                title = 'Old Faithful Eruption Intervals v Durations',\n",
    "                xaxis = {'title': 'Duration of eruption (minutes)'},\n",
    "                yaxis = {'title': 'Interval to next eruption (minutes)'},\n",
    "                hovermode='closest'\n",
    "            )\n",
    "        }\n",
    "    )\n",
    "])\n",
    "\n",
    "# Add the server clause:\n",
    "if __name__ == '__main__':\n",
    "    app.run_server()"
   ]
  }
 ],
 "metadata": {
  "kernelspec": {
   "display_name": "Python 3",
   "language": "python",
   "name": "python3"
  },
  "language_info": {
   "codemirror_mode": {
    "name": "ipython",
    "version": 3
   },
   "file_extension": ".py",
   "mimetype": "text/x-python",
   "name": "python",
   "nbconvert_exporter": "python",
   "pygments_lexer": "ipython3",
   "version": "3.7.3"
  }
 },
 "nbformat": 4,
 "nbformat_minor": 2
}
