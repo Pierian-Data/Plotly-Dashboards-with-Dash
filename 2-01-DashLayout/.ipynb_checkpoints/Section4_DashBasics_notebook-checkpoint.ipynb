{
 "cells": [
  {
   "cell_type": "code",
   "execution_count": 1,
   "metadata": {},
   "outputs": [],
   "source": [
    "import dash \n",
    "import dash_core_components as dcc\n",
    "import dash_html_components as html\n"
   ]
  },
  {
   "cell_type": "code",
   "execution_count": 6,
   "metadata": {
    "collapsed": true
   },
   "outputs": [
    {
     "name": "stdout",
     "output_type": "stream",
     "text": [
      " * Serving Flask app \"__main__\" (lazy loading)\n",
      " * Environment: production\n",
      "   WARNING: This is a development server. Do not use it in a production deployment.\n",
      "   Use a production WSGI server instead.\n",
      " * Debug mode: off\n"
     ]
    },
    {
     "name": "stderr",
     "output_type": "stream",
     "text": [
      " * Running on http://127.0.0.1:8050/ (Press CTRL+C to quit)\n",
      "127.0.0.1 - - [07/Jan/2020 10:03:33] \"GET / HTTP/1.1\" 200 -\n",
      "127.0.0.1 - - [07/Jan/2020 10:03:33] \"GET /_dash-component-suites/dash_renderer/react@16.8.6.min.js?v=1.1.0&m=1568818297 HTTP/1.1\" 200 -\n",
      "127.0.0.1 - - [07/Jan/2020 10:03:33] \"GET /_dash-component-suites/dash_renderer/prop-types@15.7.2.min.js?v=1.1.0&m=1568818297 HTTP/1.1\" 200 -\n",
      "127.0.0.1 - - [07/Jan/2020 10:03:33] \"GET /_dash-component-suites/dash_renderer/react-dom@16.8.6.min.js?v=1.1.0&m=1568818297 HTTP/1.1\" 200 -\n",
      "127.0.0.1 - - [07/Jan/2020 10:03:33] \"GET /_dash-component-suites/dash_core_components/highlight.pack.js?v=1.2.0&m=1568821458 HTTP/1.1\" 200 -\n",
      "127.0.0.1 - - [07/Jan/2020 10:03:33] \"GET /_dash-component-suites/dash_html_components/dash_html_components.min.js?v=1.0.1&m=1566962730 HTTP/1.1\" 200 -\n",
      "127.0.0.1 - - [07/Jan/2020 10:03:33] \"GET /_dash-component-suites/dash_renderer/dash_renderer.min.js?v=1.1.0&m=1568818297 HTTP/1.1\" 200 -\n",
      "127.0.0.1 - - [07/Jan/2020 10:03:33] \"GET /_dash-component-suites/dash_core_components/dash_core_components.min.js?v=1.2.0&m=1568821458 HTTP/1.1\" 200 -\n",
      "127.0.0.1 - - [07/Jan/2020 10:03:33] \"GET /_dash-component-suites/dash_core_components/plotly-1.49.4.min.js?v=1.2.0&m=1568821458 HTTP/1.1\" 200 -\n",
      "127.0.0.1 - - [07/Jan/2020 10:03:37] \"GET / HTTP/1.1\" 200 -\n",
      "127.0.0.1 - - [07/Jan/2020 10:03:37] \"GET /_dash-component-suites/dash_renderer/react@16.8.6.min.js?v=1.1.0&m=1568818297 HTTP/1.1\" 200 -\n",
      "127.0.0.1 - - [07/Jan/2020 10:03:37] \"GET /_dash-component-suites/dash_renderer/react-dom@16.8.6.min.js?v=1.1.0&m=1568818297 HTTP/1.1\" 200 -\n",
      "127.0.0.1 - - [07/Jan/2020 10:03:37] \"GET /_dash-component-suites/dash_renderer/prop-types@15.7.2.min.js?v=1.1.0&m=1568818297 HTTP/1.1\" 200 -\n",
      "127.0.0.1 - - [07/Jan/2020 10:03:37] \"GET /_dash-component-suites/dash_core_components/plotly-1.49.4.min.js?v=1.2.0&m=1568821458 HTTP/1.1\" 200 -\n",
      "127.0.0.1 - - [07/Jan/2020 10:03:38] \"GET /_dash-component-suites/dash_core_components/highlight.pack.js?v=1.2.0&m=1568821458 HTTP/1.1\" 200 -\n",
      "127.0.0.1 - - [07/Jan/2020 10:03:38] \"GET /_dash-component-suites/dash_core_components/dash_core_components.min.js?v=1.2.0&m=1568821458 HTTP/1.1\" 200 -\n",
      "127.0.0.1 - - [07/Jan/2020 10:03:38] \"GET /_dash-component-suites/dash_html_components/dash_html_components.min.js?v=1.0.1&m=1566962730 HTTP/1.1\" 200 -\n",
      "127.0.0.1 - - [07/Jan/2020 10:03:38] \"GET /_dash-component-suites/dash_renderer/dash_renderer.min.js?v=1.1.0&m=1568818297 HTTP/1.1\" 200 -\n",
      "127.0.0.1 - - [07/Jan/2020 10:03:38] \"GET /_dash-layout HTTP/1.1\" 200 -\n",
      "127.0.0.1 - - [07/Jan/2020 10:03:38] \"GET /_dash-dependencies HTTP/1.1\" 200 -\n"
     ]
    }
   ],
   "source": [
    "app = dash.Dash()\n",
    "\n",
    "app.layout = html.Div(children=[\n",
    "    html.H1(children='Hello Dash'),\n",
    "    html.Div(children='Dash: A web application framework for Python.'),\n",
    "\n",
    "    dcc.Graph(\n",
    "        id='example-graph',\n",
    "        figure={\n",
    "            'data': [\n",
    "                {'x': [1, 2, 3], 'y': [4, 1, 2], 'type': 'bar', 'name': 'SF'},\n",
    "                {'x': [1, 2, 3], 'y': [2, 4, 5], 'type': 'bar', 'name': u'Montréal'},\n",
    "            ],\n",
    "            'layout': {\n",
    "                'title': 'Dash Data Visualization'\n",
    "            }\n",
    "        }\n",
    "    )\n",
    "])\n",
    "\n",
    "\n",
    "if __name__== '__main__':\n",
    "    app.run_server()"
   ]
  },
  {
   "cell_type": "code",
   "execution_count": 9,
   "metadata": {},
   "outputs": [
    {
     "name": "stdout",
     "output_type": "stream",
     "text": [
      " * Serving Flask app \"__main__\" (lazy loading)\n",
      " * Environment: production\n",
      "   WARNING: This is a development server. Do not use it in a production deployment.\n",
      "   Use a production WSGI server instead.\n",
      " * Debug mode: off\n"
     ]
    },
    {
     "name": "stderr",
     "output_type": "stream",
     "text": [
      " * Running on http://127.0.0.1:8050/ (Press CTRL+C to quit)\n",
      "127.0.0.1 - - [07/Jan/2020 10:13:43] \"GET / HTTP/1.1\" 200 -\n",
      "127.0.0.1 - - [07/Jan/2020 10:13:43] \"GET /_dash-component-suites/dash_renderer/react@16.8.6.min.js?v=1.1.0&m=1568818297 HTTP/1.1\" 200 -\n",
      "127.0.0.1 - - [07/Jan/2020 10:13:43] \"GET /_dash-component-suites/dash_renderer/prop-types@15.7.2.min.js?v=1.1.0&m=1568818297 HTTP/1.1\" 200 -\n",
      "127.0.0.1 - - [07/Jan/2020 10:13:43] \"GET /_dash-component-suites/dash_renderer/react-dom@16.8.6.min.js?v=1.1.0&m=1568818297 HTTP/1.1\" 200 -\n",
      "127.0.0.1 - - [07/Jan/2020 10:13:43] \"GET /_dash-component-suites/dash_core_components/highlight.pack.js?v=1.2.0&m=1568821458 HTTP/1.1\" 200 -\n",
      "127.0.0.1 - - [07/Jan/2020 10:13:43] \"GET /_dash-component-suites/dash_html_components/dash_html_components.min.js?v=1.0.1&m=1566962730 HTTP/1.1\" 200 -\n",
      "127.0.0.1 - - [07/Jan/2020 10:13:43] \"GET /_dash-component-suites/dash_renderer/dash_renderer.min.js?v=1.1.0&m=1568818297 HTTP/1.1\" 200 -\n",
      "127.0.0.1 - - [07/Jan/2020 10:13:43] \"GET /_dash-component-suites/dash_core_components/dash_core_components.min.js?v=1.2.0&m=1568821458 HTTP/1.1\" 200 -\n",
      "127.0.0.1 - - [07/Jan/2020 10:13:43] \"GET /_dash-component-suites/dash_core_components/plotly-1.49.4.min.js?v=1.2.0&m=1568821458 HTTP/1.1\" 200 -\n",
      "127.0.0.1 - - [07/Jan/2020 10:13:46] \"GET / HTTP/1.1\" 200 -\n",
      "127.0.0.1 - - [07/Jan/2020 10:13:46] \"GET /_dash-component-suites/dash_renderer/react@16.8.6.min.js?v=1.1.0&m=1568818297 HTTP/1.1\" 200 -\n",
      "127.0.0.1 - - [07/Jan/2020 10:13:46] \"GET /_dash-component-suites/dash_renderer/react-dom@16.8.6.min.js?v=1.1.0&m=1568818297 HTTP/1.1\" 200 -\n",
      "127.0.0.1 - - [07/Jan/2020 10:13:46] \"GET /_dash-component-suites/dash_renderer/prop-types@15.7.2.min.js?v=1.1.0&m=1568818297 HTTP/1.1\" 200 -\n",
      "127.0.0.1 - - [07/Jan/2020 10:13:46] \"GET /_dash-component-suites/dash_core_components/plotly-1.49.4.min.js?v=1.2.0&m=1568821458 HTTP/1.1\" 200 -\n",
      "127.0.0.1 - - [07/Jan/2020 10:13:47] \"GET /_dash-component-suites/dash_core_components/highlight.pack.js?v=1.2.0&m=1568821458 HTTP/1.1\" 200 -\n",
      "127.0.0.1 - - [07/Jan/2020 10:13:47] \"GET /_dash-component-suites/dash_core_components/dash_core_components.min.js?v=1.2.0&m=1568821458 HTTP/1.1\" 200 -\n",
      "127.0.0.1 - - [07/Jan/2020 10:13:47] \"GET /_dash-component-suites/dash_html_components/dash_html_components.min.js?v=1.0.1&m=1566962730 HTTP/1.1\" 200 -\n",
      "127.0.0.1 - - [07/Jan/2020 10:13:47] \"GET /_dash-component-suites/dash_renderer/dash_renderer.min.js?v=1.1.0&m=1568818297 HTTP/1.1\" 200 -\n",
      "127.0.0.1 - - [07/Jan/2020 10:13:47] \"GET /_dash-layout HTTP/1.1\" 200 -\n",
      "127.0.0.1 - - [07/Jan/2020 10:13:47] \"GET /_dash-dependencies HTTP/1.1\" 200 -\n"
     ]
    }
   ],
   "source": [
    "app = dash.Dash()\n",
    "\n",
    "colors={'background':'#111111','text':'#7FDBFF'}\n",
    "\n",
    "app.layout = html.Div(children=[\n",
    "    html.H1('Hello Dash', style={'textAlign':'center',\n",
    "                                'color':colors['text']}),\n",
    "\n",
    "    dcc.Graph(\n",
    "        id='example-graph',\n",
    "        figure={\n",
    "            'data': [\n",
    "                {'x': [1, 2, 3], 'y': [4, 1, 2], 'type': 'bar', 'name': 'SF'},\n",
    "                {'x': [1, 2, 3], 'y': [2, 4, 5], 'type': 'bar', 'name': u'Montréal'},\n",
    "            ],\n",
    "            'layout': {\n",
    "                'plot_bgcolor':colors['background'],\n",
    "                'paper_bgcolor':colors['background'],\n",
    "                'font':{'color':colors['text']},\n",
    "                'title': 'Dash Data Visualization'\n",
    "            }\n",
    "        }\n",
    "    )\n",
    "],\n",
    "                     style={'backgroundColor':colors['background']})\n",
    "\n",
    "\n",
    "if __name__== '__main__':\n",
    "    app.run_server()"
   ]
  },
  {
   "cell_type": "code",
   "execution_count": 10,
   "metadata": {},
   "outputs": [],
   "source": [
    "import dash\n",
    "import dash_core_components as dcc\n",
    "import dash_html_components as html\n",
    "import plotly.graph_objs as go\n",
    "import numpy as np"
   ]
  },
  {
   "cell_type": "code",
   "execution_count": 18,
   "metadata": {},
   "outputs": [
    {
     "name": "stdout",
     "output_type": "stream",
     "text": [
      " * Serving Flask app \"__main__\" (lazy loading)\n",
      " * Environment: production\n",
      "   WARNING: This is a development server. Do not use it in a production deployment.\n",
      "   Use a production WSGI server instead.\n",
      " * Debug mode: off\n"
     ]
    },
    {
     "name": "stderr",
     "output_type": "stream",
     "text": [
      " * Running on http://127.0.0.1:8050/ (Press CTRL+C to quit)\n",
      "127.0.0.1 - - [07/Jan/2020 10:35:54] \"GET / HTTP/1.1\" 200 -\n",
      "127.0.0.1 - - [07/Jan/2020 10:35:54] \"GET /_dash-component-suites/dash_renderer/react@16.8.6.min.js?v=1.1.0&m=1568818297 HTTP/1.1\" 200 -\n",
      "127.0.0.1 - - [07/Jan/2020 10:35:54] \"GET /_dash-component-suites/dash_renderer/prop-types@15.7.2.min.js?v=1.1.0&m=1568818297 HTTP/1.1\" 200 -\n",
      "127.0.0.1 - - [07/Jan/2020 10:35:54] \"GET /_dash-component-suites/dash_renderer/react-dom@16.8.6.min.js?v=1.1.0&m=1568818297 HTTP/1.1\" 200 -\n",
      "127.0.0.1 - - [07/Jan/2020 10:35:54] \"GET /_dash-component-suites/dash_core_components/highlight.pack.js?v=1.2.0&m=1568821458 HTTP/1.1\" 200 -\n",
      "127.0.0.1 - - [07/Jan/2020 10:35:54] \"GET /_dash-component-suites/dash_html_components/dash_html_components.min.js?v=1.0.1&m=1566962730 HTTP/1.1\" 200 -\n",
      "127.0.0.1 - - [07/Jan/2020 10:35:54] \"GET /_dash-component-suites/dash_renderer/dash_renderer.min.js?v=1.1.0&m=1568818297 HTTP/1.1\" 200 -\n",
      "127.0.0.1 - - [07/Jan/2020 10:35:54] \"GET /_dash-component-suites/dash_core_components/dash_core_components.min.js?v=1.2.0&m=1568821458 HTTP/1.1\" 200 -\n",
      "127.0.0.1 - - [07/Jan/2020 10:35:54] \"GET /_dash-component-suites/dash_core_components/plotly-1.49.4.min.js?v=1.2.0&m=1568821458 HTTP/1.1\" 200 -\n",
      "127.0.0.1 - - [07/Jan/2020 10:35:58] \"GET / HTTP/1.1\" 200 -\n",
      "127.0.0.1 - - [07/Jan/2020 10:35:58] \"GET /_dash-component-suites/dash_renderer/react@16.8.6.min.js?v=1.1.0&m=1568818297 HTTP/1.1\" 200 -\n",
      "127.0.0.1 - - [07/Jan/2020 10:35:58] \"GET /_dash-component-suites/dash_renderer/react-dom@16.8.6.min.js?v=1.1.0&m=1568818297 HTTP/1.1\" 200 -\n",
      "127.0.0.1 - - [07/Jan/2020 10:35:58] \"GET /_dash-component-suites/dash_renderer/prop-types@15.7.2.min.js?v=1.1.0&m=1568818297 HTTP/1.1\" 200 -\n",
      "127.0.0.1 - - [07/Jan/2020 10:35:58] \"GET /_dash-component-suites/dash_core_components/plotly-1.49.4.min.js?v=1.2.0&m=1568821458 HTTP/1.1\" 200 -\n",
      "127.0.0.1 - - [07/Jan/2020 10:35:58] \"GET /_dash-component-suites/dash_core_components/highlight.pack.js?v=1.2.0&m=1568821458 HTTP/1.1\" 200 -\n",
      "127.0.0.1 - - [07/Jan/2020 10:35:58] \"GET /_dash-component-suites/dash_core_components/dash_core_components.min.js?v=1.2.0&m=1568821458 HTTP/1.1\" 200 -\n",
      "127.0.0.1 - - [07/Jan/2020 10:35:59] \"GET /_dash-component-suites/dash_html_components/dash_html_components.min.js?v=1.0.1&m=1566962730 HTTP/1.1\" 200 -\n",
      "127.0.0.1 - - [07/Jan/2020 10:35:59] \"GET /_dash-component-suites/dash_renderer/dash_renderer.min.js?v=1.1.0&m=1568818297 HTTP/1.1\" 200 -\n",
      "127.0.0.1 - - [07/Jan/2020 10:35:59] \"GET /_dash-layout HTTP/1.1\" 200 -\n",
      "127.0.0.1 - - [07/Jan/2020 10:35:59] \"GET /_dash-dependencies HTTP/1.1\" 200 -\n"
     ]
    }
   ],
   "source": [
    "app = dash.Dash()\n",
    "\n",
    "np.random.seed(42)\n",
    "\n",
    "random_x = np.random.randint(1,101,100)\n",
    "random_y = np.random.randint(1,101,100)\n",
    "\n",
    "app.layout = html.Div([dcc.Graph(id='scatterplot',\n",
    "                                figure = {'data':[\n",
    "                                    go.Scatter(\n",
    "                                        x=random_x,\n",
    "                                        y=random_y,\n",
    "                                        mode='markers',\n",
    "                                        marker= {\n",
    "                                            'size':12,\n",
    "                                            'color':'rgb(51,204,153)',\n",
    "                                            'symbol':'pentagon',\n",
    "                                            'line':{'width':2}\n",
    "                                        })],\n",
    "                                       'layout':go.Layout(title='My Scatterplot',\n",
    "                                                         xaxis={'title':'Some X title'})}\n",
    "                                ),\n",
    "                      dcc.Graph(id='scatterplot2',\n",
    "                                figure = {'data':[\n",
    "                                    go.Scatter(\n",
    "                                        x=random_x,\n",
    "                                        y=random_y,\n",
    "                                        mode='markers',\n",
    "                                        marker= {\n",
    "                                            'size':12,\n",
    "                                            'color':'rgb(200,204,53)',\n",
    "                                            'symbol':'pentagon',\n",
    "                                            'line':{'width':2}\n",
    "                                        })],\n",
    "                                       'layout':go.Layout(title='My Scatterplot 2',\n",
    "                                                         xaxis={'title':'Some X title'})}\n",
    "                                )])\n",
    "\n",
    "if __name__ == '__main__':\n",
    "    app.run_server()"
   ]
  },
  {
   "cell_type": "code",
   "execution_count": null,
   "metadata": {},
   "outputs": [],
   "source": []
  }
 ],
 "metadata": {
  "kernelspec": {
   "display_name": "Python 3",
   "language": "python",
   "name": "python3"
  },
  "language_info": {
   "codemirror_mode": {
    "name": "ipython",
    "version": 3
   },
   "file_extension": ".py",
   "mimetype": "text/x-python",
   "name": "python",
   "nbconvert_exporter": "python",
   "pygments_lexer": "ipython3",
   "version": "3.7.3"
  }
 },
 "nbformat": 4,
 "nbformat_minor": 2
}
