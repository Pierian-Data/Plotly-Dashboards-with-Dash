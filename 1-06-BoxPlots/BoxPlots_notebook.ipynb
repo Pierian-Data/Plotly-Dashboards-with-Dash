{
 "cells": [
  {
   "cell_type": "code",
   "execution_count": 1,
   "metadata": {},
   "outputs": [],
   "source": [
    "import plotly.offline as pyo\n",
    "import plotly.graph_objs as go"
   ]
  },
  {
   "cell_type": "code",
   "execution_count": 5,
   "metadata": {},
   "outputs": [
    {
     "data": {
      "text/plain": [
       "'temp-plot.html'"
      ]
     },
     "execution_count": 5,
     "metadata": {},
     "output_type": "execute_result"
    }
   ],
   "source": [
    "y = [1,14,14,15,16,18,18,19,19,20,20,23,24,26,27,27,28,29,33,54]\n",
    "\n",
    "data = [go.Box(y=y,\n",
    "               boxpoints='all',\n",
    "              jitter=0.3,\n",
    "              pointpos=0)]\n",
    "\n",
    "pyo.plot(data)"
   ]
  },
  {
   "cell_type": "code",
   "execution_count": 7,
   "metadata": {},
   "outputs": [
    {
     "data": {
      "text/plain": [
       "'temp-plot.html'"
      ]
     },
     "execution_count": 7,
     "metadata": {},
     "output_type": "execute_result"
    }
   ],
   "source": [
    "y = [1,14,14,15,16,18,18,19,19,20,20,23,24,26,27,27,28,29,33,54]\n",
    "\n",
    "data = [go.Box(y=y,\n",
    "              boxpoints='outliers')]\n",
    "\n",
    "pyo.plot(data)"
   ]
  },
  {
   "cell_type": "code",
   "execution_count": 10,
   "metadata": {},
   "outputs": [
    {
     "data": {
      "text/plain": [
       "'temp-plot.html'"
      ]
     },
     "execution_count": 10,
     "metadata": {},
     "output_type": "execute_result"
    }
   ],
   "source": [
    "snodgrass = [.209,.205,.196,.210,.202,.207,.224,.223,.220,.201]\n",
    "twain = [.225,.262,.217,.240,.230,.229,.235,.217]\n",
    "\n",
    "data = [go.Box(y=snodgrass,name='Snodgrass'),\n",
    "       go.Box(y=twain,name='Twain')]\n",
    "\n",
    "pyo.plot(data)"
   ]
  },
  {
   "cell_type": "markdown",
   "metadata": {},
   "source": [
    "## Exercise"
   ]
  },
  {
   "cell_type": "code",
   "execution_count": 15,
   "metadata": {},
   "outputs": [
    {
     "name": "stdout",
     "output_type": "stream",
     "text": [
      "  sex  length  diameter  height  whole_weight  shucked_weight  viscera_weight  \\\n",
      "0   M   0.455     0.365   0.095        0.5140          0.2245          0.1010   \n",
      "1   M   0.350     0.265   0.090        0.2255          0.0995          0.0485   \n",
      "2   F   0.530     0.420   0.135        0.6770          0.2565          0.1415   \n",
      "3   M   0.440     0.365   0.125        0.5160          0.2155          0.1140   \n",
      "4   I   0.330     0.255   0.080        0.2050          0.0895          0.0395   \n",
      "\n",
      "   shell_weight  rings  \n",
      "0         0.150     15  \n",
      "1         0.070      7  \n",
      "2         0.210      9  \n",
      "3         0.155     10  \n",
      "4         0.055      7  \n"
     ]
    },
    {
     "data": {
      "text/plain": [
       "'temp-plot.html'"
      ]
     },
     "execution_count": 15,
     "metadata": {},
     "output_type": "execute_result"
    }
   ],
   "source": [
    "#######\n",
    "# Objective: Make a DataFrame using the Abalone dataset (../data/abalone.csv).\n",
    "# Take two independent random samples of different sizes from the 'rings' field.\n",
    "# HINT: np.random.choice(df['rings'],10,replace=False) takes 10 random values\n",
    "# Use box plots to show that the samples do derive from the same population.\n",
    "######\n",
    "\n",
    "# Perform imports here:\n",
    "import pandas as pd\n",
    "import numpy as np\n",
    "\n",
    "\n",
    "\n",
    "# create a DataFrame from the .csv file:\n",
    "df = pd.read_csv('C:/Users/20194136/Documents/Courses/Plotly-Dashboards-with-Dash/Data/abalone.csv')\n",
    "print(df.head())\n",
    "\n",
    "# take two random samples of different sizes:\n",
    "df1 = np.random.choice(df['rings'], 17, replace=False)\n",
    "df2 = np.random.choice(df['rings'], 15, replace=False)\n",
    "\n",
    "\n",
    "# create a data variable with two Box plots:\n",
    "\n",
    "data= [go.Box(y=df1, name='First Sample of 10'),\n",
    "      go.Box(y=df2, name='Second Sample of 15')]\n",
    "\n",
    "pyo.plot(data)\n",
    "\n",
    "\n",
    "\n",
    "\n",
    "\n",
    "\n",
    "\n",
    "\n",
    "\n",
    "# add a layout\n",
    "\n",
    "\n",
    "\n",
    "\n",
    "# create a fig from data & layout, and plot the fig\n"
   ]
  }
 ],
 "metadata": {
  "kernelspec": {
   "display_name": "Python 3",
   "language": "python",
   "name": "python3"
  },
  "language_info": {
   "codemirror_mode": {
    "name": "ipython",
    "version": 3
   },
   "file_extension": ".py",
   "mimetype": "text/x-python",
   "name": "python",
   "nbconvert_exporter": "python",
   "pygments_lexer": "ipython3",
   "version": "3.7.3"
  }
 },
 "nbformat": 4,
 "nbformat_minor": 2
}
