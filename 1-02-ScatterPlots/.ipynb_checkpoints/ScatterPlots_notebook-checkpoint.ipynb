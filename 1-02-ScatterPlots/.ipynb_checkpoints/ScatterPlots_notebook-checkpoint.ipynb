{
 "cells": [
  {
   "cell_type": "code",
   "execution_count": 1,
   "metadata": {},
   "outputs": [],
   "source": [
    "# import packages\n",
    "import numpy as np\n",
    "import plotly.offline as pyo\n",
    "import plotly.graph_objs as go"
   ]
  },
  {
   "cell_type": "code",
   "execution_count": 2,
   "metadata": {},
   "outputs": [],
   "source": [
    "# get consistent random data\n",
    "np.random.seed(42)"
   ]
  },
  {
   "cell_type": "code",
   "execution_count": 3,
   "metadata": {},
   "outputs": [],
   "source": [
    "# create the data\n",
    "random_x = np.random.randint(1,101,100)\n",
    "random_y = np.random.randint(1,101,100)"
   ]
  },
  {
   "cell_type": "code",
   "execution_count": 8,
   "metadata": {},
   "outputs": [
    {
     "data": {
      "text/plain": [
       "'scatterplot_1.html'"
      ]
     },
     "execution_count": 8,
     "metadata": {},
     "output_type": "execute_result"
    }
   ],
   "source": [
    "# create the data variable\n",
    "data = [go.Scatter(x=random_x,\n",
    "                   y=random_y,\n",
    "                   mode='markers',\n",
    "                   marker = dict(\n",
    "                      size= 12,\n",
    "                      color= 'rgb(51,204,153)',\n",
    "                      symbol= 'pentagon',\n",
    "                      line = {'width':2}\n",
    "                  ))]\n",
    "\n",
    "# create the layout variable\n",
    "layout = go.Layout(title='Scatterplot 1',\n",
    "                  xaxis={'title':'My x axis'},\n",
    "                   yaxis=dict(title='My y axis'),\n",
    "                   hovermode='closest')\n",
    "\n",
    "# combine them into a figure\n",
    "fig = go.Figure(data=data, layout=layout)\n",
    "\n",
    "# plot the figure\n",
    "pyo.plot(fig, filename='scatterplot_1.html')"
   ]
  }
 ],
 "metadata": {
  "kernelspec": {
   "display_name": "Python 3",
   "language": "python",
   "name": "python3"
  },
  "language_info": {
   "codemirror_mode": {
    "name": "ipython",
    "version": 3
   },
   "file_extension": ".py",
   "mimetype": "text/x-python",
   "name": "python",
   "nbconvert_exporter": "python",
   "pygments_lexer": "ipython3",
   "version": "3.7.3"
  }
 },
 "nbformat": 4,
 "nbformat_minor": 2
}
