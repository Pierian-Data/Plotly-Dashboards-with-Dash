{
 "cells": [
  {
   "cell_type": "code",
   "execution_count": 5,
   "metadata": {},
   "outputs": [],
   "source": [
    "import numpy as np\n",
    "import pandas as pd\n",
    "import plotly.offline as pyo\n",
    "import plotly.graph_objs as go\n",
    "np.random.seed(56)"
   ]
  },
  {
   "cell_type": "code",
   "execution_count": 4,
   "metadata": {},
   "outputs": [
    {
     "data": {
      "text/plain": [
       "'temp-plot.html'"
      ]
     },
     "execution_count": 4,
     "metadata": {},
     "output_type": "execute_result"
    }
   ],
   "source": [
    "# generate data\n",
    "x_values = np.linspace(0,1,100)\n",
    "y_values = np.random.randn(100)\n",
    "\n",
    "# create traces for different plots\n",
    "trace0 = go.Scatter(x = x_values,\n",
    "                  y = y_values+5,\n",
    "                  mode = 'markers', name='markers')\n",
    "\n",
    "trace1 = go.Scatter(x = x_values,\n",
    "                   y = y_values,\n",
    "                   mode = 'lines', name='markers')\n",
    "\n",
    "trace2= go.Scatter(x = x_values,\n",
    "                  y = y_values-5,\n",
    "                  mode = 'lines+markers', name = 'markers')\n",
    "\n",
    "# combine the traces into the data\n",
    "data = [trace0, trace1, trace2]\n",
    "\n",
    "# add layout\n",
    "layout = go.Layout(title='Line Charts')\n",
    "\n",
    "# combine layout and data into a figure and plot\n",
    "fig = go.Figure(data=data, layout=layout)\n",
    "pyo.plot(fig)"
   ]
  },
  {
   "cell_type": "code",
   "execution_count": 11,
   "metadata": {},
   "outputs": [
    {
     "data": {
      "text/plain": [
       "'temp-plot.html'"
      ]
     },
     "execution_count": 11,
     "metadata": {},
     "output_type": "execute_result"
    }
   ],
   "source": [
    "# get data and print the head\n",
    "df = pd.read_csv('C:/Users/20194136/Documents/Courses/Plotly-Dashboards-with-Dash/SourceData/nst-est2017-alldata.csv')\n",
    "#print(df.head())\n",
    "\n",
    "# some preprocessing\n",
    "df2 = df[df['DIVISION'] == '1']\n",
    "# grab column and set it as an index\n",
    "df2.set_index('NAME', inplace=True)\n",
    "list_of_pop_col = [col for col in df2.columns if col.startswith('POP')]\n",
    "df2 = df2[list_of_pop_col]\n",
    "\n",
    "data = [ go.Scatter(x=df2.columns,\n",
    "                    y=df2.loc[name],\n",
    "                    mode='lines',\n",
    "                    name=name) for name in df2.index]\n",
    "\n",
    "pyo.plot(data)"
   ]
  },
  {
   "cell_type": "code",
   "execution_count": 20,
   "metadata": {},
   "outputs": [
    {
     "name": "stdout",
     "output_type": "stream",
     "text": [
      "   LST_DATE      DAY LST_TIME  T_HR_AVG\n",
      "0  20100601  TUESDAY     0:00      25.2\n",
      "1  20100601  TUESDAY     1:00      24.1\n",
      "2  20100601  TUESDAY     2:00      24.4\n",
      "3  20100601  TUESDAY     3:00      24.9\n",
      "4  20100601  TUESDAY     4:00      22.8\n"
     ]
    },
    {
     "data": {
      "text/plain": [
       "'temp-plot.html'"
      ]
     },
     "execution_count": 20,
     "metadata": {},
     "output_type": "execute_result"
    }
   ],
   "source": [
    "# Exercise\n",
    "\n",
    "#######\n",
    "# Objective: Using the file 2010YumaAZ.csv, develop a Line Chart\n",
    "# that plots seven days worth of temperature data on one graph.\n",
    "# You can use a for loop to assign each day to its own trace.\n",
    "######\n",
    "\n",
    "# Perform imports here:\n",
    "# This is already done\n",
    "\n",
    "\n",
    "\n",
    "# Create a pandas DataFrame from 2010YumaAZ.csv\n",
    "df = pd.read_csv('C:/Users/20194136/Documents/Courses/Plotly-Dashboards-with-Dash/Data/2010YumaAZ.csv')\n",
    "days = ['TUESDAY','WEDNESDAY','THURSDAY','FRIDAY','SATURDAY','SUNDAY','MONDAY']\n",
    "print(df.head())\n",
    "\n",
    "# Use a for loop (or list comprehension to create traces for the data list)\n",
    "data = []\n",
    "\n",
    "for day in days:\n",
    "    # What should go inside this Scatter call?\n",
    "    trace = go.Scatter(x=df['LST_TIME'],\n",
    "                       y=df[df['DAY']==day]['T_HR_AVG'],\n",
    "                       mode='lines',\n",
    "                       name=day)\n",
    "    data.append(trace)\n",
    "\n",
    "# Define the layout\n",
    "layout = go.Layout(title='Average hourly temperatures from June 1 to 7',\n",
    "                  hovermode='closest')\n",
    "\n",
    "fig = go.Figure(data=data, layout=layout)\n",
    "pyo.plot(fig)\n",
    "\n",
    "\n",
    "\n",
    "\n",
    "# Create a fig from data and layout, and plot the fig"
   ]
  }
 ],
 "metadata": {
  "kernelspec": {
   "display_name": "Python 3",
   "language": "python",
   "name": "python3"
  },
  "language_info": {
   "codemirror_mode": {
    "name": "ipython",
    "version": 3
   },
   "file_extension": ".py",
   "mimetype": "text/x-python",
   "name": "python",
   "nbconvert_exporter": "python",
   "pygments_lexer": "ipython3",
   "version": "3.7.3"
  }
 },
 "nbformat": 4,
 "nbformat_minor": 2
}
