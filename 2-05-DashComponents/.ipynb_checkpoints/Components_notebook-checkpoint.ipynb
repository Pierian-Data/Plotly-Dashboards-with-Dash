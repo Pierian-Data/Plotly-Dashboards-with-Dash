{
 "cells": [
  {
   "cell_type": "code",
   "execution_count": 1,
   "metadata": {},
   "outputs": [
    {
     "name": "stdout",
     "output_type": "stream",
     "text": [
      " * Serving Flask app \"__main__\" (lazy loading)\n",
      " * Environment: production\n",
      "   WARNING: This is a development server. Do not use it in a production deployment.\n",
      "   Use a production WSGI server instead.\n",
      " * Debug mode: off\n"
     ]
    },
    {
     "name": "stderr",
     "output_type": "stream",
     "text": [
      " * Running on http://127.0.0.1:8050/ (Press CTRL+C to quit)\n",
      "127.0.0.1 - - [07/Jan/2020 11:14:55] \"GET / HTTP/1.1\" 200 -\n",
      "127.0.0.1 - - [07/Jan/2020 11:14:55] \"GET /_dash-component-suites/dash_renderer/react@16.8.6.min.js?v=1.1.0&m=1568818297 HTTP/1.1\" 200 -\n",
      "127.0.0.1 - - [07/Jan/2020 11:14:55] \"GET /_dash-component-suites/dash_renderer/prop-types@15.7.2.min.js?v=1.1.0&m=1568818297 HTTP/1.1\" 200 -\n",
      "127.0.0.1 - - [07/Jan/2020 11:14:55] \"GET /_dash-component-suites/dash_renderer/react-dom@16.8.6.min.js?v=1.1.0&m=1568818297 HTTP/1.1\" 200 -\n",
      "127.0.0.1 - - [07/Jan/2020 11:14:55] \"GET /_dash-component-suites/dash_html_components/dash_html_components.min.js?v=1.0.1&m=1566962730 HTTP/1.1\" 200 -\n",
      "127.0.0.1 - - [07/Jan/2020 11:14:55] \"GET /_dash-component-suites/dash_renderer/dash_renderer.min.js?v=1.1.0&m=1568818297 HTTP/1.1\" 200 -\n",
      "127.0.0.1 - - [07/Jan/2020 11:15:10] \"GET / HTTP/1.1\" 200 -\n",
      "127.0.0.1 - - [07/Jan/2020 11:15:10] \"GET /_dash-component-suites/dash_renderer/react@16.8.6.min.js?v=1.1.0&m=1568818297 HTTP/1.1\" 200 -\n",
      "127.0.0.1 - - [07/Jan/2020 11:15:10] \"GET /_dash-component-suites/dash_renderer/react-dom@16.8.6.min.js?v=1.1.0&m=1568818297 HTTP/1.1\" 200 -\n",
      "127.0.0.1 - - [07/Jan/2020 11:15:10] \"GET /_dash-component-suites/dash_renderer/prop-types@15.7.2.min.js?v=1.1.0&m=1568818297 HTTP/1.1\" 200 -\n",
      "127.0.0.1 - - [07/Jan/2020 11:15:10] \"GET /_dash-component-suites/dash_html_components/dash_html_components.min.js?v=1.0.1&m=1566962730 HTTP/1.1\" 200 -\n",
      "127.0.0.1 - - [07/Jan/2020 11:15:10] \"GET /_dash-component-suites/dash_renderer/dash_renderer.min.js?v=1.1.0&m=1568818297 HTTP/1.1\" 200 -\n",
      "127.0.0.1 - - [07/Jan/2020 11:15:10] \"GET /_dash-layout HTTP/1.1\" 200 -\n",
      "127.0.0.1 - - [07/Jan/2020 11:15:10] \"GET /_dash-dependencies HTTP/1.1\" 200 -\n"
     ]
    }
   ],
   "source": [
    "#######\n",
    "# This provides examples of Dash HTML Components.\n",
    "# Feel free to add things to it that you find useful.\n",
    "######\n",
    "import dash\n",
    "import dash_html_components as html\n",
    "\n",
    "app = dash.Dash()\n",
    "\n",
    "app.layout = html.Div([\n",
    "    'This is the outermost Div',\n",
    "    html.Div(\n",
    "        'This is an inner Div',\n",
    "        style={'color':'blue', 'border':'2px blue solid', 'borderRadius':5,\n",
    "        'padding':10, 'width':220}\n",
    "    ),\n",
    "    html.Div(\n",
    "        'This is another inner Div',\n",
    "        style={'color':'green', 'border':'2px green solid',\n",
    "        'margin':10, 'width':220}\n",
    "    ),\n",
    "],\n",
    "# this styles the outermost Div:\n",
    "style={'width':500, 'height':200, 'color':'red', 'border':'2px red dotted'})\n",
    "\n",
    "if __name__ == '__main__':\n",
    "    app.run_server()\n"
   ]
  },
  {
   "cell_type": "code",
   "execution_count": 3,
   "metadata": {},
   "outputs": [
    {
     "name": "stdout",
     "output_type": "stream",
     "text": [
      " * Serving Flask app \"__main__\" (lazy loading)\n",
      " * Environment: production\n",
      "   WARNING: This is a development server. Do not use it in a production deployment.\n",
      "   Use a production WSGI server instead.\n",
      " * Debug mode: off\n"
     ]
    },
    {
     "name": "stderr",
     "output_type": "stream",
     "text": [
      " * Running on http://127.0.0.1:8050/ (Press CTRL+C to quit)\n",
      "127.0.0.1 - - [07/Jan/2020 11:30:34] \"GET / HTTP/1.1\" 200 -\n",
      "127.0.0.1 - - [07/Jan/2020 11:30:34] \"GET /_dash-component-suites/dash_renderer/react@16.8.6.min.js?v=1.1.0&m=1568818297 HTTP/1.1\" 200 -\n",
      "127.0.0.1 - - [07/Jan/2020 11:30:34] \"GET /_dash-component-suites/dash_renderer/prop-types@15.7.2.min.js?v=1.1.0&m=1568818297 HTTP/1.1\" 200 -\n",
      "127.0.0.1 - - [07/Jan/2020 11:30:34] \"GET /_dash-component-suites/dash_renderer/react-dom@16.8.6.min.js?v=1.1.0&m=1568818297 HTTP/1.1\" 200 -\n",
      "127.0.0.1 - - [07/Jan/2020 11:30:34] \"GET /_dash-component-suites/dash_core_components/highlight.pack.js?v=1.2.0&m=1568821458 HTTP/1.1\" 200 -\n",
      "127.0.0.1 - - [07/Jan/2020 11:30:34] \"GET /_dash-component-suites/dash_html_components/dash_html_components.min.js?v=1.0.1&m=1566962730 HTTP/1.1\" 200 -\n",
      "127.0.0.1 - - [07/Jan/2020 11:30:34] \"GET /_dash-component-suites/dash_renderer/dash_renderer.min.js?v=1.1.0&m=1568818297 HTTP/1.1\" 200 -\n",
      "127.0.0.1 - - [07/Jan/2020 11:30:34] \"GET /_dash-component-suites/dash_core_components/dash_core_components.min.js?v=1.2.0&m=1568821458 HTTP/1.1\" 200 -\n",
      "127.0.0.1 - - [07/Jan/2020 11:30:34] \"GET /_dash-component-suites/dash_core_components/plotly-1.49.4.min.js?v=1.2.0&m=1568821458 HTTP/1.1\" 200 -\n",
      "127.0.0.1 - - [07/Jan/2020 11:30:37] \"GET / HTTP/1.1\" 200 -\n",
      "127.0.0.1 - - [07/Jan/2020 11:30:37] \"GET /_dash-component-suites/dash_renderer/react@16.8.6.min.js?v=1.1.0&m=1568818297 HTTP/1.1\" 200 -\n",
      "127.0.0.1 - - [07/Jan/2020 11:30:37] \"GET /_dash-component-suites/dash_renderer/react-dom@16.8.6.min.js?v=1.1.0&m=1568818297 HTTP/1.1\" 200 -\n",
      "127.0.0.1 - - [07/Jan/2020 11:30:37] \"GET /_dash-component-suites/dash_renderer/prop-types@15.7.2.min.js?v=1.1.0&m=1568818297 HTTP/1.1\" 200 -\n",
      "127.0.0.1 - - [07/Jan/2020 11:30:37] \"GET /_dash-component-suites/dash_core_components/plotly-1.49.4.min.js?v=1.2.0&m=1568821458 HTTP/1.1\" 200 -\n",
      "127.0.0.1 - - [07/Jan/2020 11:30:38] \"GET /_dash-component-suites/dash_core_components/highlight.pack.js?v=1.2.0&m=1568821458 HTTP/1.1\" 200 -\n",
      "127.0.0.1 - - [07/Jan/2020 11:30:38] \"GET /_dash-component-suites/dash_core_components/dash_core_components.min.js?v=1.2.0&m=1568821458 HTTP/1.1\" 200 -\n",
      "127.0.0.1 - - [07/Jan/2020 11:30:38] \"GET /_dash-component-suites/dash_html_components/dash_html_components.min.js?v=1.0.1&m=1566962730 HTTP/1.1\" 200 -\n",
      "127.0.0.1 - - [07/Jan/2020 11:30:38] \"GET /_dash-component-suites/dash_renderer/dash_renderer.min.js?v=1.1.0&m=1568818297 HTTP/1.1\" 200 -\n",
      "127.0.0.1 - - [07/Jan/2020 11:30:38] \"GET /_dash-layout HTTP/1.1\" 200 -\n",
      "127.0.0.1 - - [07/Jan/2020 11:30:38] \"GET /_dash-dependencies HTTP/1.1\" 200 -\n"
     ]
    }
   ],
   "source": [
    "#######\n",
    "# This provides examples of Dash Core Components.\n",
    "# Feel free to add things to it that you find useful.\n",
    "######\n",
    "import dash\n",
    "import dash_core_components as dcc\n",
    "import dash_html_components as html\n",
    "\n",
    "app = dash.Dash()\n",
    "\n",
    "app.layout = html.Div([\n",
    "\n",
    "    # DROPDOWN https://dash.plot.ly/dash-core-components/dropdown\n",
    "    html.Label('Dropdown'),\n",
    "    dcc.Dropdown(\n",
    "        options=[\n",
    "            {'label': 'New York City', 'value': 'NYC'},\n",
    "            {'label': 'Montréal', 'value': 'MTL'},\n",
    "            {'label': 'San Francisco', 'value': 'SF'}\n",
    "        ],\n",
    "        value='MTL'\n",
    "    ),\n",
    "\n",
    "    html.Label('Multi-Select Dropdown'),\n",
    "    dcc.Dropdown(\n",
    "        options=[\n",
    "            {'label': 'New York City', 'value': 'NYC'},\n",
    "            {'label': 'Montréal', 'value': 'MTL'},\n",
    "            {'label': 'San Francisco', 'value': 'SF'}\n",
    "        ],\n",
    "        value=['MTL', 'SF'],\n",
    "        multi=True\n",
    "    ),\n",
    "\n",
    "    # SLIDER https://dash.plot.ly/dash-core-components/slider\n",
    "    html.Label('Slider'),\n",
    "    html.P(\n",
    "    dcc.Slider(\n",
    "        min=-5,\n",
    "        max=10,\n",
    "        step=0.5,\n",
    "        marks={i: i for i in range(-5,11)},\n",
    "        value=-3\n",
    "    )),\n",
    "\n",
    "    # RADIO ITEMS https://dash.plot.ly/dash-core-components/radioitems\n",
    "    html.Label('Radio Items'),\n",
    "    dcc.RadioItems(\n",
    "        options=[\n",
    "            {'label': 'New York City', 'value': 'NYC'},\n",
    "            {'label': 'Montréal', 'value': 'MTL'},\n",
    "            {'label': 'San Francisco', 'value': 'SF'}\n",
    "        ],\n",
    "        value='MTL'\n",
    "    )\n",
    "], style={'width': '100%'})\n",
    "\n",
    "if __name__ == '__main__':\n",
    "    app.run_server()"
   ]
  },
  {
   "cell_type": "code",
   "execution_count": 5,
   "metadata": {},
   "outputs": [
    {
     "name": "stdout",
     "output_type": "stream",
     "text": [
      " * Serving Flask app \"__main__\" (lazy loading)\n",
      " * Environment: production\n",
      "   WARNING: This is a development server. Do not use it in a production deployment.\n",
      "   Use a production WSGI server instead.\n",
      " * Debug mode: off\n"
     ]
    },
    {
     "name": "stderr",
     "output_type": "stream",
     "text": [
      " * Running on http://127.0.0.1:8050/ (Press CTRL+C to quit)\n",
      "127.0.0.1 - - [07/Jan/2020 11:34:02] \"GET / HTTP/1.1\" 200 -\n",
      "127.0.0.1 - - [07/Jan/2020 11:34:02] \"GET /_dash-component-suites/dash_renderer/react@16.8.6.min.js?v=1.1.0&m=1568818297 HTTP/1.1\" 200 -\n",
      "127.0.0.1 - - [07/Jan/2020 11:34:02] \"GET /_dash-component-suites/dash_renderer/prop-types@15.7.2.min.js?v=1.1.0&m=1568818297 HTTP/1.1\" 200 -\n",
      "127.0.0.1 - - [07/Jan/2020 11:34:02] \"GET /_dash-component-suites/dash_renderer/react-dom@16.8.6.min.js?v=1.1.0&m=1568818297 HTTP/1.1\" 200 -\n",
      "127.0.0.1 - - [07/Jan/2020 11:34:02] \"GET /_dash-component-suites/dash_core_components/highlight.pack.js?v=1.2.0&m=1568821458 HTTP/1.1\" 200 -\n",
      "127.0.0.1 - - [07/Jan/2020 11:34:02] \"GET /_dash-component-suites/dash_html_components/dash_html_components.min.js?v=1.0.1&m=1566962730 HTTP/1.1\" 200 -\n",
      "127.0.0.1 - - [07/Jan/2020 11:34:02] \"GET /_dash-component-suites/dash_renderer/dash_renderer.min.js?v=1.1.0&m=1568818297 HTTP/1.1\" 200 -\n",
      "127.0.0.1 - - [07/Jan/2020 11:34:02] \"GET /_dash-component-suites/dash_core_components/dash_core_components.min.js?v=1.2.0&m=1568821458 HTTP/1.1\" 200 -\n",
      "127.0.0.1 - - [07/Jan/2020 11:34:02] \"GET /_dash-component-suites/dash_core_components/plotly-1.49.4.min.js?v=1.2.0&m=1568821458 HTTP/1.1\" 200 -\n",
      "127.0.0.1 - - [07/Jan/2020 11:34:06] \"GET / HTTP/1.1\" 200 -\n",
      "127.0.0.1 - - [07/Jan/2020 11:34:06] \"GET /_dash-component-suites/dash_renderer/react@16.8.6.min.js?v=1.1.0&m=1568818297 HTTP/1.1\" 200 -\n",
      "127.0.0.1 - - [07/Jan/2020 11:34:06] \"GET /_dash-component-suites/dash_renderer/react-dom@16.8.6.min.js?v=1.1.0&m=1568818297 HTTP/1.1\" 200 -\n",
      "127.0.0.1 - - [07/Jan/2020 11:34:06] \"GET /_dash-component-suites/dash_renderer/prop-types@15.7.2.min.js?v=1.1.0&m=1568818297 HTTP/1.1\" 200 -\n",
      "127.0.0.1 - - [07/Jan/2020 11:34:06] \"GET /_dash-component-suites/dash_core_components/plotly-1.49.4.min.js?v=1.2.0&m=1568821458 HTTP/1.1\" 200 -\n",
      "127.0.0.1 - - [07/Jan/2020 11:34:07] \"GET /_dash-component-suites/dash_core_components/highlight.pack.js?v=1.2.0&m=1568821458 HTTP/1.1\" 200 -\n",
      "127.0.0.1 - - [07/Jan/2020 11:34:07] \"GET /_dash-component-suites/dash_core_components/dash_core_components.min.js?v=1.2.0&m=1568821458 HTTP/1.1\" 200 -\n",
      "127.0.0.1 - - [07/Jan/2020 11:34:07] \"GET /_dash-component-suites/dash_html_components/dash_html_components.min.js?v=1.0.1&m=1566962730 HTTP/1.1\" 200 -\n",
      "127.0.0.1 - - [07/Jan/2020 11:34:07] \"GET /_dash-component-suites/dash_renderer/dash_renderer.min.js?v=1.1.0&m=1568818297 HTTP/1.1\" 200 -\n",
      "127.0.0.1 - - [07/Jan/2020 11:34:07] \"GET /_dash-layout HTTP/1.1\" 200 -\n",
      "127.0.0.1 - - [07/Jan/2020 11:34:07] \"GET /_dash-dependencies HTTP/1.1\" 200 -\n"
     ]
    }
   ],
   "source": [
    "import dash\n",
    "import dash_core_components as dcc\n",
    "import dash_html_components as html\n",
    "\n",
    "app = dash.Dash()\n",
    "\n",
    "markdown_text = '''\n",
    "### Dash and Markdown\n",
    "\n",
    "Dash apps can be written in Markdown.\n",
    "Dash uses the [CommonMark](http://commonmark.org/) specification of Markdown.\n",
    "\n",
    "Check out their [60 Second Markdown Tutorial](http://commonmark.org/help/)\n",
    "if this is your first introduction to Markdown!\n",
    "\n",
    "Markdown includes syntax for things like **bold text** and *italics*,\n",
    "[links](http://commonmark.org/help), inline `code` snippets, lists,\n",
    "quotes, and more.\n",
    "'''\n",
    "\n",
    "app.layout = html.Div([\n",
    "    dcc.Markdown(children=markdown_text),\n",
    "    html.Div([html.Label('Dropdown'),\n",
    "    dcc.Dropdown(\n",
    "        options=[\n",
    "            {'label': 'New York City', 'value': 'NYC'},\n",
    "            {'label': 'Montréal', 'value': 'MTL'},\n",
    "            {'label': 'San Francisco', 'value': 'SF'}\n",
    "        ],\n",
    "        value='MTL'\n",
    "    )]\n",
    ")])\n",
    "\n",
    "if __name__ == '__main__':\n",
    "    app.run_server()"
   ]
  },
  {
   "cell_type": "code",
   "execution_count": null,
   "metadata": {},
   "outputs": [],
   "source": []
  }
 ],
 "metadata": {
  "kernelspec": {
   "display_name": "Python 3",
   "language": "python",
   "name": "python3"
  },
  "language_info": {
   "codemirror_mode": {
    "name": "ipython",
    "version": 3
   },
   "file_extension": ".py",
   "mimetype": "text/x-python",
   "name": "python",
   "nbconvert_exporter": "python",
   "pygments_lexer": "ipython3",
   "version": "3.7.3"
  }
 },
 "nbformat": 4,
 "nbformat_minor": 2
}
