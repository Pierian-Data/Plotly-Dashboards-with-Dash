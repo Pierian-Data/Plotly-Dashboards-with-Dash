{
 "cells": [
  {
   "cell_type": "code",
   "execution_count": 1,
   "metadata": {},
   "outputs": [],
   "source": [
    "import plotly.offline as pyo\n",
    "import plotly.graph_objs as go\n",
    "import pandas as pd"
   ]
  },
  {
   "cell_type": "code",
   "execution_count": 5,
   "metadata": {},
   "outputs": [
    {
     "data": {
      "text/plain": [
       "'temp-plot.html'"
      ]
     },
     "execution_count": 5,
     "metadata": {},
     "output_type": "execute_result"
    }
   ],
   "source": [
    "df = pd.read_csv('C:/Users/20194136/Documents/Courses/Plotly-Dashboards-with-Dash/Data/2010SantaBarbaraCA.csv')\n",
    "\n",
    "data =[go.Heatmap(x=df['DAY'],\n",
    "                 y=df['LST_TIME'],\n",
    "                 z=df['T_HR_AVG'].values.tolist(),\n",
    "                 colorscale='Jet')]\n",
    "\n",
    "layout = go.Layout(title='HeatMap')\n",
    "\n",
    "fig = go.Figure(data=data, layout=layout)\n",
    "\n",
    "pyo.plot(fig)"
   ]
  },
  {
   "cell_type": "code",
   "execution_count": 6,
   "metadata": {},
   "outputs": [
    {
     "data": {
      "text/plain": [
       "'temp-plot.html'"
      ]
     },
     "execution_count": 6,
     "metadata": {},
     "output_type": "execute_result"
    }
   ],
   "source": [
    "df = pd.read_csv('C:/Users/20194136/Documents/Courses/Plotly-Dashboards-with-Dash/Data/2010YumaAZ.csv')\n",
    "\n",
    "data =[go.Heatmap(x=df['DAY'],\n",
    "                 y=df['LST_TIME'],\n",
    "                 z=df['T_HR_AVG'].values.tolist(),\n",
    "                 colorscale='Jet')]\n",
    "\n",
    "layout = go.Layout(title='HeatMap')\n",
    "\n",
    "fig = go.Figure(data=data, layout=layout)\n",
    "\n",
    "pyo.plot(fig)"
   ]
  },
  {
   "cell_type": "code",
   "execution_count": 9,
   "metadata": {},
   "outputs": [
    {
     "data": {
      "text/plain": [
       "'temp-plot.html'"
      ]
     },
     "execution_count": 9,
     "metadata": {},
     "output_type": "execute_result"
    }
   ],
   "source": [
    "from plotly import tools\n",
    "df1 = pd.read_csv('C:/Users/20194136/Documents/Courses/Plotly-Dashboards-with-Dash/Data/2010SantaBarbaraCA.csv')\n",
    "df2 = pd.read_csv('C:/Users/20194136/Documents/Courses/Plotly-Dashboards-with-Dash/Data/2010YumaAZ.csv')\n",
    "df3 = pd.read_csv('C:/Users/20194136/Documents/Courses/Plotly-Dashboards-with-Dash/Data/2010SitkaAK.csv')\n",
    "\n",
    "trace1 = go.Heatmap(x=df1['DAY'],y=df1['LST_TIME'], z=df1['T_HR_AVG'],colorscale='Jet',zmin=5, zmax=40)\n",
    "trace2 = go.Heatmap(x=df2['DAY'],y=df2['LST_TIME'], z=df2['T_HR_AVG'],colorscale='Jet',zmin=5, zmax=40)\n",
    "trace3 = go.Heatmap(x=df3['DAY'],y=df3['LST_TIME'], z=df3['T_HR_AVG'],colorscale='Jet',zmin=5, zmax=40)\n",
    "\n",
    "fig = tools.make_subplots(rows=1,cols=3, subplot_titles=['SantaBarbara', 'Yuma', 'Sitka'], shared_yaxes=True)\n",
    "fig.append_trace(trace1,1,1)\n",
    "fig.append_trace(trace2,1,2)\n",
    "fig.append_trace(trace3,1,3)\n",
    "\n",
    "fig['layout'].update(title='Temperatures for three cities')\n",
    "\n",
    "pyo.plot(fig)\n",
    "\n",
    "\n"
   ]
  }
 ],
 "metadata": {
  "kernelspec": {
   "display_name": "Python 3",
   "language": "python",
   "name": "python3"
  },
  "language_info": {
   "codemirror_mode": {
    "name": "ipython",
    "version": 3
   },
   "file_extension": ".py",
   "mimetype": "text/x-python",
   "name": "python",
   "nbconvert_exporter": "python",
   "pygments_lexer": "ipython3",
   "version": "3.7.3"
  }
 },
 "nbformat": 4,
 "nbformat_minor": 2
}
